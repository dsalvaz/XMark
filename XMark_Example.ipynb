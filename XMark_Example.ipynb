{
 "cells": [
  {
   "cell_type": "code",
   "execution_count": 47,
   "metadata": {},
   "outputs": [],
   "source": [
    "from XMark import XMark_benchmark\n",
    "import networkx as nx\n",
    "import numpy as np\n",
    "import random"
   ]
  },
  {
   "cell_type": "code",
   "execution_count": 52,
   "metadata": {},
   "outputs": [],
   "source": [
    "def homophily (graph, label):\n",
    "    similar = [(u, v) for u, v in graph.edges() if graph.nodes[u][label] == graph.nodes[v][label]]\n",
    "    obs = len(similar) / len(graph.edges())\n",
    "    \n",
    "    similar_random = 0\n",
    "    for u in graph.nodes():\n",
    "        v = random.choice(list(graph.nodes()))\n",
    "        if graph.nodes[u][label] == graph.nodes[v][label]:\n",
    "            similar_random += 1\n",
    "            \n",
    "    exp = similar_random / len(graph.nodes())\n",
    "    \n",
    "    return obs, exp\n",
    "\n",
    "def sse(coms, graph, label):\n",
    "    lab_nod_coms = []\n",
    "    for c in coms:\n",
    "        part = []\n",
    "        for el in c:\n",
    "            part.append(graph.nodes[el][label])\n",
    "        lab_nod_coms.append(part)\n",
    "        \n",
    "    sse = []\n",
    "    tot_centr = []\n",
    "    for c in lab_nod_coms:\n",
    "        centroid = np.mean(c)\n",
    "        tot_centr.append(centroid)\n",
    "        sse_c = 0\n",
    "        for n in c:\n",
    "            sse_c += abs( (n - centroid)**2 )\n",
    "        sse.append(sse_c) \n",
    "        \n",
    "    return sum(sse)"
   ]
  },
  {
   "cell_type": "markdown",
   "metadata": {},
   "source": [
    "### Categorical attributes"
   ]
  },
  {
   "cell_type": "code",
   "execution_count": 53,
   "metadata": {},
   "outputs": [
    {
     "name": "stdout",
     "output_type": "stream",
     "text": [
      "observed homophily:  0.6691703358370025\n",
      "expected homophily:  0.495\n",
      "\n",
      "categorical newman's coefficient:  0.3294333884349014\n"
     ]
    }
   ],
   "source": [
    "N = 2000\n",
    "gamma = 3\n",
    "beta = 2\n",
    "#studied in the paper, number of labels equal to number of communities\n",
    "#m_cat = [\"auto\", \"auto\"]\n",
    "m_cat = [2, 5]\n",
    "theta = 0.3\n",
    "mu = 0.3\n",
    "avg_k = 10\n",
    "min_com = 20\n",
    "\n",
    "g = XMark_benchmark(N, gamma, beta, mu,\n",
    "          labels=m_cat,\n",
    "          noise=theta,\n",
    "          average_degree=avg_k, min_community=min_com,\n",
    "          type_attr=\"categorical\")\n",
    "\n",
    "obs, exp = homophily(g, 'label_0')\n",
    "print(\"observed homophily: \", obs)\n",
    "print(\"expected homophily: \", exp)\n",
    "r = nx.attribute_assortativity_coefficient(g, 'label_0')\n",
    "print(\"\")\n",
    "print(\"categorical newman's coefficient: \", r)"
   ]
  },
  {
   "cell_type": "markdown",
   "metadata": {},
   "source": [
    "### Continuous attributes"
   ]
  },
  {
   "cell_type": "code",
   "execution_count": 63,
   "metadata": {},
   "outputs": [
    {
     "name": "stdout",
     "output_type": "stream",
     "text": [
      "SSE 1:  498.72875975256676\n",
      "SSE 2:  518.6653629993475\n"
     ]
    }
   ],
   "source": [
    "N = 2000\n",
    "gamma = 3\n",
    "beta = 2\n",
    "#studied in the paper, number of labels equal to number of communities\n",
    "#m_cont = [\"auto\", \"auto\"]\n",
    "m_cont = [2, 5]\n",
    "sigma = 0.5\n",
    "mu = 0.3\n",
    "avg_k = 10\n",
    "min_com = 20\n",
    "\n",
    "g = XMark_benchmark(N, gamma, beta, mu,\n",
    "          labels=m_cont,\n",
    "          std=sigma,\n",
    "          average_degree=avg_k, min_community=min_com,\n",
    "          type_attr=\"continuous\")\n",
    "\n",
    "coms = {frozenset(g.nodes[v]['community']) for v in g}\n",
    "coms = [list(c) for c in coms]\n",
    "\n",
    "val_sse1 = sse(coms, g, 'label_0')\n",
    "print(\"SSE 1: \", val_sse1)\n",
    "val_sse2 = sse(coms, g, 'label_1')\n",
    "print(\"SSE 2: \", val_sse2)"
   ]
  },
  {
   "cell_type": "code",
   "execution_count": null,
   "metadata": {},
   "outputs": [],
   "source": []
  }
 ],
 "metadata": {
  "kernelspec": {
   "display_name": "Python 3",
   "language": "python",
   "name": "python3"
  },
  "language_info": {
   "codemirror_mode": {
    "name": "ipython",
    "version": 3
   },
   "file_extension": ".py",
   "mimetype": "text/x-python",
   "name": "python",
   "nbconvert_exporter": "python",
   "pygments_lexer": "ipython3",
   "version": "3.7.4"
  }
 },
 "nbformat": 4,
 "nbformat_minor": 2
}
